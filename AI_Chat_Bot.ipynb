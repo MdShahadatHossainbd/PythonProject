{
  "nbformat": 4,
  "nbformat_minor": 0,
  "metadata": {
    "colab": {
      "name": "AI Chat Bot.ipynb",
      "provenance": [],
      "authorship_tag": "ABX9TyPxmFI9sz4+dunbBFyrOOa7",
      "include_colab_link": true
    },
    "kernelspec": {
      "name": "python3",
      "display_name": "Python 3"
    }
  },
  "cells": [
    {
      "cell_type": "markdown",
      "metadata": {
        "id": "view-in-github",
        "colab_type": "text"
      },
      "source": [
        "<a href=\"https://colab.research.google.com/github/MdShahadatHossainbd/PythonProject/blob/master/AI_Chat_Bot.ipynb\" target=\"_parent\"><img src=\"https://colab.research.google.com/assets/colab-badge.svg\" alt=\"Open In Colab\"/></a>"
      ]
    },
    {
      "cell_type": "code",
      "metadata": {
        "id": "4GgbdkadnHuA",
        "colab_type": "code",
        "colab": {
          "base_uri": "https://localhost:8080/",
          "height": 54
        },
        "outputId": "37a9100c-b7ce-4a0e-c502-33820f782170"
      },
      "source": [
        "!pip install nltk"
      ],
      "execution_count": 1,
      "outputs": [
        {
          "output_type": "stream",
          "text": [
            "Requirement already satisfied: nltk in /usr/local/lib/python3.6/dist-packages (3.2.5)\n",
            "Requirement already satisfied: six in /usr/local/lib/python3.6/dist-packages (from nltk) (1.15.0)\n"
          ],
          "name": "stdout"
        }
      ]
    },
    {
      "cell_type": "code",
      "metadata": {
        "id": "-Hcseh3znw6J",
        "colab_type": "code",
        "colab": {
          "base_uri": "https://localhost:8080/",
          "height": 919
        },
        "outputId": "a893517f-4874-4860-a04c-e848aa591af4"
      },
      "source": [
        "!pip install newspaper3k"
      ],
      "execution_count": 2,
      "outputs": [
        {
          "output_type": "stream",
          "text": [
            "Collecting newspaper3k\n",
            "\u001b[?25l  Downloading https://files.pythonhosted.org/packages/d7/b9/51afecb35bb61b188a4b44868001de348a0e8134b4dfa00ffc191567c4b9/newspaper3k-0.2.8-py3-none-any.whl (211kB)\n",
            "\u001b[K     |████████████████████████████████| 215kB 2.7MB/s \n",
            "\u001b[?25hCollecting jieba3k>=0.35.1\n",
            "\u001b[?25l  Downloading https://files.pythonhosted.org/packages/a9/cb/2c8332bcdc14d33b0bedd18ae0a4981a069c3513e445120da3c3f23a8aaa/jieba3k-0.35.1.zip (7.4MB)\n",
            "\u001b[K     |████████████████████████████████| 7.4MB 8.1MB/s \n",
            "\u001b[?25hRequirement already satisfied: PyYAML>=3.11 in /usr/local/lib/python3.6/dist-packages (from newspaper3k) (3.13)\n",
            "Collecting feedparser>=5.2.1\n",
            "\u001b[?25l  Downloading https://files.pythonhosted.org/packages/91/d8/7d37fec71ff7c9dbcdd80d2b48bcdd86d6af502156fc93846fb0102cb2c4/feedparser-5.2.1.tar.bz2 (192kB)\n",
            "\u001b[K     |████████████████████████████████| 194kB 37.0MB/s \n",
            "\u001b[?25hCollecting cssselect>=0.9.2\n",
            "  Downloading https://files.pythonhosted.org/packages/3b/d4/3b5c17f00cce85b9a1e6f91096e1cc8e8ede2e1be8e96b87ce1ed09e92c5/cssselect-1.1.0-py2.py3-none-any.whl\n",
            "Collecting tinysegmenter==0.3\n",
            "  Downloading https://files.pythonhosted.org/packages/17/82/86982e4b6d16e4febc79c2a1d68ee3b707e8a020c5d2bc4af8052d0f136a/tinysegmenter-0.3.tar.gz\n",
            "Requirement already satisfied: requests>=2.10.0 in /usr/local/lib/python3.6/dist-packages (from newspaper3k) (2.23.0)\n",
            "Collecting feedfinder2>=0.0.4\n",
            "  Downloading https://files.pythonhosted.org/packages/35/82/1251fefec3bb4b03fd966c7e7f7a41c9fc2bb00d823a34c13f847fd61406/feedfinder2-0.0.4.tar.gz\n",
            "Requirement already satisfied: lxml>=3.6.0 in /usr/local/lib/python3.6/dist-packages (from newspaper3k) (4.2.6)\n",
            "Requirement already satisfied: Pillow>=3.3.0 in /usr/local/lib/python3.6/dist-packages (from newspaper3k) (7.0.0)\n",
            "Requirement already satisfied: beautifulsoup4>=4.4.1 in /usr/local/lib/python3.6/dist-packages (from newspaper3k) (4.6.3)\n",
            "Requirement already satisfied: nltk>=3.2.1 in /usr/local/lib/python3.6/dist-packages (from newspaper3k) (3.2.5)\n",
            "Collecting tldextract>=2.0.1\n",
            "\u001b[?25l  Downloading https://files.pythonhosted.org/packages/12/cf/d0ff82625e53bd245d6173ce6333d190abbfcd94e4c30e54b4e16b474216/tldextract-2.2.3-py2.py3-none-any.whl (48kB)\n",
            "\u001b[K     |████████████████████████████████| 51kB 4.7MB/s \n",
            "\u001b[?25hRequirement already satisfied: python-dateutil>=2.5.3 in /usr/local/lib/python3.6/dist-packages (from newspaper3k) (2.8.1)\n",
            "Requirement already satisfied: idna<3,>=2.5 in /usr/local/lib/python3.6/dist-packages (from requests>=2.10.0->newspaper3k) (2.10)\n",
            "Requirement already satisfied: certifi>=2017.4.17 in /usr/local/lib/python3.6/dist-packages (from requests>=2.10.0->newspaper3k) (2020.6.20)\n",
            "Requirement already satisfied: urllib3!=1.25.0,!=1.25.1,<1.26,>=1.21.1 in /usr/local/lib/python3.6/dist-packages (from requests>=2.10.0->newspaper3k) (1.24.3)\n",
            "Requirement already satisfied: chardet<4,>=3.0.2 in /usr/local/lib/python3.6/dist-packages (from requests>=2.10.0->newspaper3k) (3.0.4)\n",
            "Requirement already satisfied: six in /usr/local/lib/python3.6/dist-packages (from feedfinder2>=0.0.4->newspaper3k) (1.15.0)\n",
            "Collecting requests-file>=1.4\n",
            "  Downloading https://files.pythonhosted.org/packages/77/86/cdb5e8eaed90796aa83a6d9f75cfbd37af553c47a291cd47bc410ef9bdb2/requests_file-1.5.1-py2.py3-none-any.whl\n",
            "Building wheels for collected packages: jieba3k, feedparser, tinysegmenter, feedfinder2\n",
            "  Building wheel for jieba3k (setup.py) ... \u001b[?25l\u001b[?25hdone\n",
            "  Created wheel for jieba3k: filename=jieba3k-0.35.1-cp36-none-any.whl size=7398406 sha256=659651a38b76cf15a183318156e390bd34acb490850bf79d2ff304b2d042e69d\n",
            "  Stored in directory: /root/.cache/pip/wheels/83/15/9c/a3f1f67e7f7181170ad37d32e503c35da20627c013f438ed34\n",
            "  Building wheel for feedparser (setup.py) ... \u001b[?25l\u001b[?25hdone\n",
            "  Created wheel for feedparser: filename=feedparser-5.2.1-cp36-none-any.whl size=44939 sha256=a1c20112600370a9653315ad0fca48a9618dafb75f66558884ce12f1802fdafb\n",
            "  Stored in directory: /root/.cache/pip/wheels/8c/69/b7/f52763c41c5471df57703a0ef718a32a5e81ee35dcf6d4f97f\n",
            "  Building wheel for tinysegmenter (setup.py) ... \u001b[?25l\u001b[?25hdone\n",
            "  Created wheel for tinysegmenter: filename=tinysegmenter-0.3-cp36-none-any.whl size=13538 sha256=51a66441a482f342e4d5b66efc7008eba9bee6ba30c819fda5c222ea35418833\n",
            "  Stored in directory: /root/.cache/pip/wheels/81/2b/43/a02ede72324dd40cdd7ca53aad718c7710628e91b8b0dc0f02\n",
            "  Building wheel for feedfinder2 (setup.py) ... \u001b[?25l\u001b[?25hdone\n",
            "  Created wheel for feedfinder2: filename=feedfinder2-0.0.4-cp36-none-any.whl size=3355 sha256=c32ce8fae2b94855f14f6e85e508b94b192b6e71cf3cc7e728f1532bdb9532b2\n",
            "  Stored in directory: /root/.cache/pip/wheels/de/03/ca/778e3a7a627e3d98836cc890e7cb40c7575424cfd3340f40ed\n",
            "Successfully built jieba3k feedparser tinysegmenter feedfinder2\n",
            "Installing collected packages: jieba3k, feedparser, cssselect, tinysegmenter, feedfinder2, requests-file, tldextract, newspaper3k\n",
            "Successfully installed cssselect-1.1.0 feedfinder2-0.0.4 feedparser-5.2.1 jieba3k-0.35.1 newspaper3k-0.2.8 requests-file-1.5.1 tinysegmenter-0.3 tldextract-2.2.3\n"
          ],
          "name": "stdout"
        }
      ]
    },
    {
      "cell_type": "code",
      "metadata": {
        "id": "8omuZn__n9n6",
        "colab_type": "code",
        "colab": {}
      },
      "source": [
        "from newspaper import Article\n",
        "import random\n",
        "import string\n",
        "import nltk\n",
        "from sklearn.feature_extraction.text import CountVectorizer\n",
        "from sklearn.metrics.pairwise import cosine_similarity\n",
        "import numpy as np\n",
        "import warnings\n",
        "warnings.filterwarnings('ignore')"
      ],
      "execution_count": 3,
      "outputs": []
    },
    {
      "cell_type": "code",
      "metadata": {
        "id": "up3GI5uhrBTk",
        "colab_type": "code",
        "colab": {
          "base_uri": "https://localhost:8080/",
          "height": 35
        },
        "outputId": "1339b410-41a4-4b4e-b5c8-0ce9691c8f53"
      },
      "source": [
        "nltk.download('punkt', quiet=True)"
      ],
      "execution_count": 4,
      "outputs": [
        {
          "output_type": "execute_result",
          "data": {
            "text/plain": [
              "True"
            ]
          },
          "metadata": {
            "tags": []
          },
          "execution_count": 4
        }
      ]
    },
    {
      "cell_type": "code",
      "metadata": {
        "id": "fj1G1ygDrqmw",
        "colab_type": "code",
        "colab": {}
      },
      "source": [
        "article = Article('https://www.thedailystar.net/coronavirus-deadly-new-threat/news/covid-19-death-toll-crosses-4500-mark-1957325')\n",
        "article.download()\n",
        "article.parse()\n",
        "article.nlp()\n",
        "corpus = article.text"
      ],
      "execution_count": 6,
      "outputs": []
    },
    {
      "cell_type": "code",
      "metadata": {
        "id": "LYyR2IwhsAXA",
        "colab_type": "code",
        "colab": {
          "base_uri": "https://localhost:8080/",
          "height": 349
        },
        "outputId": "c0157194-11bc-479c-a3a9-99d18bca4ba7"
      },
      "source": [
        "print(corpus)"
      ],
      "execution_count": 7,
      "outputs": [
        {
          "output_type": "stream",
          "text": [
            "Thirty-seven people have died from Covid-19 infections in the country during the last 24 hours, according to a press release issued by the Directorate General of Health Services (DGHS).\n",
            "\n",
            "The total number of deaths has now reached 4,516 and the death rate currently stands at 1.38 percent.\n",
            "\n",
            "A total of 2,202 new infections were recorded in the meantime, taking the total number of people infected to 3,27,359, added the press release.\n",
            "\n",
            "The current positivity rate is 14.29 percent, while the total positivity rate stands at 19.92 percent.\n",
            "\n",
            "A total of 15,412 samples were tested across the country in the last 24 hours.\n",
            "\n",
            "Meanwhile, 3,298 Covid-19 patients have recovered in the last 24 hours.\n",
            "\n",
            "The total number of recoveries stands at 2,24,573, and the recovery rate at 68.60 percent.\n",
            "\n",
            "Four hundred and thirty-four people were put under isolation in the last 24 hours, the release added.\n",
            "\n",
            "Among the deceased, 30 were male and seven were female, while three were between 21-30 years old, two within 31-40, two within 41-50, nine between 51-60 and 21 were above 60 years old.\n"
          ],
          "name": "stdout"
        }
      ]
    },
    {
      "cell_type": "code",
      "metadata": {
        "id": "RXV66rPDusTF",
        "colab_type": "code",
        "colab": {}
      },
      "source": [
        "text = corpus\n",
        "sentence_list = nltk.sent_tokenize(text)"
      ],
      "execution_count": 8,
      "outputs": []
    },
    {
      "cell_type": "code",
      "metadata": {
        "id": "a8VvSvmevOI6",
        "colab_type": "code",
        "colab": {
          "base_uri": "https://localhost:8080/",
          "height": 55
        },
        "outputId": "563bfd6c-64b3-4cef-97f5-e5bed6bae87d"
      },
      "source": [
        "print(sentence_list)"
      ],
      "execution_count": 9,
      "outputs": [
        {
          "output_type": "stream",
          "text": [
            "['Thirty-seven people have died from Covid-19 infections in the country during the last 24 hours, according to a press release issued by the Directorate General of Health Services (DGHS).', 'The total number of deaths has now reached 4,516 and the death rate currently stands at 1.38 percent.', 'A total of 2,202 new infections were recorded in the meantime, taking the total number of people infected to 3,27,359, added the press release.', 'The current positivity rate is 14.29 percent, while the total positivity rate stands at 19.92 percent.', 'A total of 15,412 samples were tested across the country in the last 24 hours.', 'Meanwhile, 3,298 Covid-19 patients have recovered in the last 24 hours.', 'The total number of recoveries stands at 2,24,573, and the recovery rate at 68.60 percent.', 'Four hundred and thirty-four people were put under isolation in the last 24 hours, the release added.', 'Among the deceased, 30 were male and seven were female, while three were between 21-30 years old, two within 31-40, two within 41-50, nine between 51-60 and 21 were above 60 years old.']\n"
          ],
          "name": "stdout"
        }
      ]
    },
    {
      "cell_type": "code",
      "metadata": {
        "id": "nMDTDHAaxHkT",
        "colab_type": "code",
        "colab": {}
      },
      "source": [
        "def greeting_response(text):\n",
        "  text = text.lower()\n",
        "\n",
        "  bot_greetings = ['howdy', 'hi', 'hey', 'hello', 'hola']\n",
        "\n",
        "  user_greetings = ['hi', 'hey', 'hello', 'hola', 'greetings', 'wassup']\n",
        "\n",
        "  for word in text.split():\n",
        "    if word in user_greetings:\n",
        "      return random.choice(bot_greetings)"
      ],
      "execution_count": 24,
      "outputs": []
    },
    {
      "cell_type": "code",
      "metadata": {
        "id": "VMh5peu-yMso",
        "colab_type": "code",
        "colab": {}
      },
      "source": [
        "def index_sort(list_var):\n",
        "  length = len(list_var)\n",
        "  list_index = list(range(0, length))\n",
        "\n",
        "  x = list_var\n",
        "  for i in range(length):\n",
        "    for j in range(length):\n",
        "      if x[list_index[i]] > x[list_index[j]]:\n",
        "\n",
        "        temp = list_index[i]\n",
        "        list_index[i] = list_index[j]\n",
        "        list_index[j]= temp\n",
        "        \n",
        "  return list_index\n"
      ],
      "execution_count": 25,
      "outputs": []
    },
    {
      "cell_type": "code",
      "metadata": {
        "id": "pQEkvv3SA687",
        "colab_type": "code",
        "colab": {}
      },
      "source": [
        "def bot_response(user_input):\n",
        "  user_input = user_input.lower()\n",
        "  sentence_list.append(user_input)\n",
        "  bot_response = ''\n",
        "  cm = CountVectorizer().fit_transform(sentence_list)\n",
        "  similarity_scores = cosine_similarity(cm[-1], cm)\n",
        "  similarity_scores_list = similarity_scores.flatten()\n",
        "  index = index_sort(similarity_scores_list)\n",
        "  index = index[1:]\n",
        "  response_flag = 0\n",
        "\n",
        "  j = 0\n",
        "  for i in range(len(index)):\n",
        "    if similarity_scores_list[index[i]] > 0.0:\n",
        "      bot_response = bot_response + ' ' + sentence_list[index[i]]\n",
        "      response_flag = 1\n",
        "      j = j + 1\n",
        "    if j > 2:\n",
        "      break\n",
        "\n",
        "    if response_flag == 0:\n",
        "      bot_response = bot_response+' '+\"I apologize, I don't understant.\"\n",
        "\n",
        "    sentence_list.remove(user_input)"
      ],
      "execution_count": 26,
      "outputs": []
    },
    {
      "cell_type": "code",
      "metadata": {
        "id": "HiMH1QkjFiLe",
        "colab_type": "code",
        "colab": {
          "base_uri": "https://localhost:8080/",
          "height": 129
        },
        "outputId": "db1ab454-d573-4479-b716-816d3da68848"
      },
      "source": [
        "print('Doc Bot: Thirty-seven people have died from Covid-19 infections in the country during the last 24 hours, according to a press release issued by the Directorate General of Health Services (DGHS).')\n",
        "\n",
        "exit_list = ['exit', 'see you later', 'bye', 'quit', 'break']\n",
        "\n",
        "while(True):\n",
        "  user_input = input()\n",
        "  if user_input.lower() in exit_list:\n",
        "    print('Doc Bot: Chat with you later !')\n",
        "    break\n",
        "  else:\n",
        "    if greeting_response(user_input) != None:\n",
        "      print('Doc Bot: '+greeting_response(user_input))\n",
        "    else:\n",
        "      print('Doc Bot: '+bot_response(user_input))"
      ],
      "execution_count": 29,
      "outputs": [
        {
          "output_type": "stream",
          "text": [
            "Doc Bot: Thirty-seven people have died from Covid-19 infections in the country during the last 24 hours, according to a press release issued by the Directorate General of Health Services (DGHS).\n",
            "hello\n",
            "Doc Bot: howdy\n",
            "bye\n",
            "Doc Bot: Chat with you later !\n"
          ],
          "name": "stdout"
        }
      ]
    }
  ]
}