{
  "nbformat": 4,
  "nbformat_minor": 0,
  "metadata": {
    "colab": {
      "name": "BoxDetection.ipynb",
      "provenance": [],
      "authorship_tag": "ABX9TyOkxeVVLkLSZa+nxNxthBZQ",
      "include_colab_link": true
    },
    "kernelspec": {
      "name": "python3",
      "display_name": "Python 3"
    },
    "widgets": {
      "application/vnd.jupyter.widget-state+json": {
        "ffc4dedbe69048809a53df5dc281b42b": {
          "model_module": "@jupyter-widgets/controls",
          "model_name": "VBoxModel",
          "state": {
            "_view_name": "VBoxView",
            "_dom_classes": [
              "widget-interact"
            ],
            "_model_name": "VBoxModel",
            "_view_module": "@jupyter-widgets/controls",
            "_model_module_version": "1.5.0",
            "_view_count": null,
            "_view_module_version": "1.5.0",
            "box_style": "",
            "layout": "IPY_MODEL_8c600d7144ad40b8aadae1f8c458e8a8",
            "_model_module": "@jupyter-widgets/controls",
            "children": [
              "IPY_MODEL_645e66d16d6e4a35b13a92622f5e14c3",
              "IPY_MODEL_fbf0af0b0ac74b4193bd5839499645af"
            ]
          }
        },
        "8c600d7144ad40b8aadae1f8c458e8a8": {
          "model_module": "@jupyter-widgets/base",
          "model_name": "LayoutModel",
          "state": {
            "_view_name": "LayoutView",
            "grid_template_rows": null,
            "right": null,
            "justify_content": null,
            "_view_module": "@jupyter-widgets/base",
            "overflow": null,
            "_model_module_version": "1.2.0",
            "_view_count": null,
            "flex_flow": null,
            "width": null,
            "min_width": null,
            "border": null,
            "align_items": null,
            "bottom": null,
            "_model_module": "@jupyter-widgets/base",
            "top": null,
            "grid_column": null,
            "overflow_y": null,
            "overflow_x": null,
            "grid_auto_flow": null,
            "grid_area": null,
            "grid_template_columns": null,
            "flex": null,
            "_model_name": "LayoutModel",
            "justify_items": null,
            "grid_row": null,
            "max_height": null,
            "align_content": null,
            "visibility": null,
            "align_self": null,
            "height": null,
            "min_height": null,
            "padding": null,
            "grid_auto_rows": null,
            "grid_gap": null,
            "max_width": null,
            "order": null,
            "_view_module_version": "1.2.0",
            "grid_template_areas": null,
            "object_position": null,
            "object_fit": null,
            "grid_auto_columns": null,
            "margin": null,
            "display": null,
            "left": null
          }
        },
        "645e66d16d6e4a35b13a92622f5e14c3": {
          "model_module": "@jupyter-widgets/controls",
          "model_name": "IntSliderModel",
          "state": {
            "_view_name": "IntSliderView",
            "style": "IPY_MODEL_c921e634a2654a1b996b3eb3f36f644e",
            "_dom_classes": [],
            "description": "x",
            "step": 1,
            "_model_name": "IntSliderModel",
            "orientation": "horizontal",
            "max": 255,
            "_view_module": "@jupyter-widgets/controls",
            "_model_module_version": "1.5.0",
            "value": 50,
            "_view_count": null,
            "disabled": false,
            "_view_module_version": "1.5.0",
            "min": 1,
            "continuous_update": true,
            "readout_format": "d",
            "description_tooltip": null,
            "readout": true,
            "_model_module": "@jupyter-widgets/controls",
            "layout": "IPY_MODEL_50da6bba3f8d4a2f9d1a1e387508bcdf"
          }
        },
        "fbf0af0b0ac74b4193bd5839499645af": {
          "model_module": "@jupyter-widgets/output",
          "model_name": "OutputModel",
          "state": {
            "_view_name": "OutputView",
            "msg_id": "",
            "_dom_classes": [],
            "_model_name": "OutputModel",
            "outputs": [
              {
                "output_type": "display_data",
                "metadata": {
                  "tags": [],
                  "needs_background": "light"
                },
                "image/png": "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\n",
                "text/plain": "<Figure size 432x288 with 2 Axes>"
              }
            ],
            "_view_module": "@jupyter-widgets/output",
            "_model_module_version": "1.0.0",
            "_view_count": null,
            "_view_module_version": "1.0.0",
            "layout": "IPY_MODEL_e0d33ecef0524cb5816c631f41ae273f",
            "_model_module": "@jupyter-widgets/output"
          }
        },
        "c921e634a2654a1b996b3eb3f36f644e": {
          "model_module": "@jupyter-widgets/controls",
          "model_name": "SliderStyleModel",
          "state": {
            "_view_name": "StyleView",
            "handle_color": null,
            "_model_name": "SliderStyleModel",
            "description_width": "",
            "_view_module": "@jupyter-widgets/base",
            "_model_module_version": "1.5.0",
            "_view_count": null,
            "_view_module_version": "1.2.0",
            "_model_module": "@jupyter-widgets/controls"
          }
        },
        "50da6bba3f8d4a2f9d1a1e387508bcdf": {
          "model_module": "@jupyter-widgets/base",
          "model_name": "LayoutModel",
          "state": {
            "_view_name": "LayoutView",
            "grid_template_rows": null,
            "right": null,
            "justify_content": null,
            "_view_module": "@jupyter-widgets/base",
            "overflow": null,
            "_model_module_version": "1.2.0",
            "_view_count": null,
            "flex_flow": null,
            "width": null,
            "min_width": null,
            "border": null,
            "align_items": null,
            "bottom": null,
            "_model_module": "@jupyter-widgets/base",
            "top": null,
            "grid_column": null,
            "overflow_y": null,
            "overflow_x": null,
            "grid_auto_flow": null,
            "grid_area": null,
            "grid_template_columns": null,
            "flex": null,
            "_model_name": "LayoutModel",
            "justify_items": null,
            "grid_row": null,
            "max_height": null,
            "align_content": null,
            "visibility": null,
            "align_self": null,
            "height": null,
            "min_height": null,
            "padding": null,
            "grid_auto_rows": null,
            "grid_gap": null,
            "max_width": null,
            "order": null,
            "_view_module_version": "1.2.0",
            "grid_template_areas": null,
            "object_position": null,
            "object_fit": null,
            "grid_auto_columns": null,
            "margin": null,
            "display": null,
            "left": null
          }
        },
        "e0d33ecef0524cb5816c631f41ae273f": {
          "model_module": "@jupyter-widgets/base",
          "model_name": "LayoutModel",
          "state": {
            "_view_name": "LayoutView",
            "grid_template_rows": null,
            "right": null,
            "justify_content": null,
            "_view_module": "@jupyter-widgets/base",
            "overflow": null,
            "_model_module_version": "1.2.0",
            "_view_count": null,
            "flex_flow": null,
            "width": null,
            "min_width": null,
            "border": null,
            "align_items": null,
            "bottom": null,
            "_model_module": "@jupyter-widgets/base",
            "top": null,
            "grid_column": null,
            "overflow_y": null,
            "overflow_x": null,
            "grid_auto_flow": null,
            "grid_area": null,
            "grid_template_columns": null,
            "flex": null,
            "_model_name": "LayoutModel",
            "justify_items": null,
            "grid_row": null,
            "max_height": null,
            "align_content": null,
            "visibility": null,
            "align_self": null,
            "height": null,
            "min_height": null,
            "padding": null,
            "grid_auto_rows": null,
            "grid_gap": null,
            "max_width": null,
            "order": null,
            "_view_module_version": "1.2.0",
            "grid_template_areas": null,
            "object_position": null,
            "object_fit": null,
            "grid_auto_columns": null,
            "margin": null,
            "display": null,
            "left": null
          }
        }
      }
    }
  },
  "cells": [
    {
      "cell_type": "markdown",
      "metadata": {
        "id": "view-in-github",
        "colab_type": "text"
      },
      "source": [
        "<a href=\"https://colab.research.google.com/github/MdShahadatHossainbd/PythonProject/blob/master/BoxDetection.ipynb\" target=\"_parent\"><img src=\"https://colab.research.google.com/assets/colab-badge.svg\" alt=\"Open In Colab\"/></a>"
      ]
    },
    {
      "cell_type": "code",
      "metadata": {
        "id": "Z86PKS6FeoYm",
        "colab_type": "code",
        "colab": {}
      },
      "source": [
        "import cv2\n",
        "import numpy as np\n",
        "import matplotlib.pyplot as plt\n",
        "import matplotlib as mpl\n",
        "from ipywidgets import interact, interactive, fixed, interact_manual\n",
        "import ipywidgets as widgets\n",
        "mpl.rcParams['image.cmap'] = 'gray'"
      ],
      "execution_count": null,
      "outputs": []
    },
    {
      "cell_type": "code",
      "metadata": {
        "id": "6EM-O7BgfWbr",
        "colab_type": "code",
        "colab": {}
      },
      "source": [
        "# Read the image\n",
        "img = cv2.imread(\"41.jpg\", 0)"
      ],
      "execution_count": null,
      "outputs": []
    },
    {
      "cell_type": "code",
      "metadata": {
        "id": "i09H5Mjqf7f1",
        "colab_type": "code",
        "colab": {
          "base_uri": "https://localhost:8080/",
          "height": 248
        },
        "outputId": "5803e5a3-b72d-4d57-f137-49fb078c806b"
      },
      "source": [
        "# Thresholding the image\n",
        "(thresh, img_bin) = cv2.threshold(img, 128, 255,cv2.THRESH_BINARY|     cv2.THRESH_OTSU)\n",
        "# Invert the image\n",
        "img_bin = 255-img_bin \n",
        "cv2.imwrite(\"Images/Image_bin.jpg\",img_bin)\n",
        "plt.axis('off')\n",
        "plt.imshow(img_bin);"
      ],
      "execution_count": null,
      "outputs": [
        {
          "output_type": "display_data",
          "data": {
            "image/png": "[encoded data removed]",
            "text/plain": [
              "<Figure size 432x288 with 1 Axes>"
            ]
          },
          "metadata": {
            "tags": [],
            "needs_background": "light"
          }
        }
      ]
    },
    {
      "cell_type": "code",
      "metadata": {
        "id": "Kf6J1uOehMnD",
        "colab_type": "code",
        "colab": {
          "base_uri": "https://localhost:8080/",
          "height": 236,
          "referenced_widgets": [
            "ffc4dedbe69048809a53df5dc281b42b",
            "8c600d7144ad40b8aadae1f8c458e8a8",
            "645e66d16d6e4a35b13a92622f5e14c3",
            "fbf0af0b0ac74b4193bd5839499645af",
            "c921e634a2654a1b996b3eb3f36f644e",
            "50da6bba3f8d4a2f9d1a1e387508bcdf",
            "e0d33ecef0524cb5816c631f41ae273f"
          ]
        },
        "outputId": "98b54a6c-3889-4888-fae2-5395fde08258"
      },
      "source": [
        "def f(x):\n",
        "    # Defining a kernel length\n",
        "    global horizontal_lines_img, verticle_lines_img, kernel\n",
        "    kernel_length = np.array(img).shape[1]//x\n",
        "\n",
        "    # A verticle kernel of (1 X kernel_length), which will detect all the verticle lines from the image.\n",
        "    verticle_kernel = cv2.getStructuringElement(cv2.MORPH_RECT, (1, kernel_length))\n",
        "    # A horizontal kernel of (kernel_length X 1), which will help to detect all the horizontal line from the image.\n",
        "    hori_kernel = cv2.getStructuringElement(cv2.MORPH_RECT, (kernel_length, 1))\n",
        "    # A kernel of (3 X 3) ones.\n",
        "    kernel = cv2.getStructuringElement(cv2.MORPH_RECT, (3, 3))\n",
        "    # Morphological operation to detect vertical lines from an image\n",
        "    img_temp1 = cv2.erode(img_bin, verticle_kernel, iterations=3)\n",
        "    verticle_lines_img = cv2.dilate(img_temp1, verticle_kernel, iterations=3)\n",
        "    cv2.imwrite(\"Images/verticle_lines.jpg\",verticle_lines_img)\n",
        "    # Morphological operation to detect horizontal lines from an image\n",
        "    img_temp2 = cv2.erode(img_bin, hori_kernel, iterations=3)\n",
        "    horizontal_lines_img = cv2.dilate(img_temp2, hori_kernel, iterations=3)\n",
        "    plt.subplot(1, 2, 1)  # 2 rows, 2 columns, 1st subplot = top left\n",
        "    plt.imshow(verticle_lines_img);\n",
        "    plt.axis('off')\n",
        "\n",
        "    plt.subplot(1, 2, 2)  # 2 rows, 2 columns, 2nd subplot = top right\n",
        "    plt.imshow(horizontal_lines_img);\n",
        "    plt.axis('off')\n",
        "\n",
        "interact(f,  x=widgets.IntSlider(min=1,max=255,step=1,value=50));"
      ],
      "execution_count": null,
      "outputs": [
        {
          "output_type": "display_data",
          "data": {
            "application/vnd.jupyter.widget-view+json": {
              "model_id": "ffc4dedbe69048809a53df5dc281b42b",
              "version_minor": 0,
              "version_major": 2
            },
            "text/plain": [
              "interactive(children=(IntSlider(value=50, description='x', max=255, min=1), Output()), _dom_classes=('widget-i…"
            ]
          },
          "metadata": {
            "tags": []
          }
        }
      ]
    },
    {
      "cell_type": "code",
      "metadata": {
        "id": "2cdT7HwfhO2i",
        "colab_type": "code",
        "colab": {
          "base_uri": "https://localhost:8080/",
          "height": 266
        },
        "outputId": "b510977b-459a-4526-c4b6-45b0f284f98d"
      },
      "source": [
        "# Weighting parameters, this will decide the quantity of an image to be added to make a new image.\n",
        "alpha = 0.5\n",
        "beta = 1.0 - alpha\n",
        "# This function helps to add two image with specific weight parameter to get a third image as summation of two image.\n",
        "img_final_bin = cv2.addWeighted(verticle_lines_img, alpha, horizontal_lines_img, beta, 0.0)\n",
        "img_final_bin = cv2.erode(~img_final_bin, kernel, iterations=2)\n",
        "(thresh, img_final_bin) = cv2.threshold(img_final_bin, 128,255, cv2.THRESH_BINARY | cv2.THRESH_OTSU)\n",
        "plt.axis('off')\n",
        "plt.imshow(img_final_bin)\n"
      ],
      "execution_count": null,
      "outputs": [
        {
          "output_type": "execute_result",
          "data": {
            "text/plain": [
              "<matplotlib.image.AxesImage at 0x7fec7f81d940>"
            ]
          },
          "metadata": {
            "tags": []
          },
          "execution_count": 7
        },
        {
          "output_type": "display_data",
          "data": {
            "image/png": "[encoded data removed]",
            "text/plain": [
              "<Figure size 432x288 with 1 Axes>"
            ]
          },
          "metadata": {
            "tags": [],
            "needs_background": "light"
          }
        }
      ]
    },
    {
      "cell_type": "code",
      "metadata": {
        "id": "xDz-J9QOha6N",
        "colab_type": "code",
        "colab": {}
      },
      "source": [
        "def sort_contours(cnts, method=\"left-to-right\"):\n",
        "    # initialize the reverse flag and sort index\n",
        "    reverse = False\n",
        "    i = 0\n",
        "\n",
        "    # handle if we need to sort in reverse\n",
        "    if method == \"right-to-left\" or method == \"bottom-to-top\":\n",
        "        reverse = True\n",
        "\n",
        "    # handle if we are sorting against the y-coordinate rather than\n",
        "    # the x-coordinate of the bounding box\n",
        "    if method == \"top-to-bottom\" or method == \"bottom-to-top\":\n",
        "        i = 1\n",
        "\n",
        "    # construct the list of bounding boxes and sort them from top to\n",
        "    # bottom\n",
        "    boundingBoxes = [cv2.boundingRect(c) for c in cnts]\n",
        "    (cnts, boundingBoxes) = zip(*sorted(zip(cnts, boundingBoxes),\n",
        "        key=lambda b:b[1][i], reverse=reverse))\n",
        "\n",
        "    # return the list of sorted contours and bounding boxes\n",
        "    return (cnts, boundingBoxes)\n",
        "\n",
        "# Find contours for image, which will detect all the boxes\n",
        "im2, contours, hierarchy = cv2.findContours(img_final_bin, cv2.RETR_TREE, cv2.CHAIN_APPROX_SIMPLE)\n",
        "\n",
        "# Sort all the contours by top to bottom.\n",
        "(contours, boundingBoxes) = sort_contours(contours, method=\"top-to-bottom\")"
      ],
      "execution_count": null,
      "outputs": []
    },
    {
      "cell_type": "code",
      "metadata": {
        "id": "3cpQkgwkhrak",
        "colab_type": "code",
        "colab": {}
      },
      "source": [
        ""
      ],
      "execution_count": null,
      "outputs": []
    },
    {
      "cell_type": "code",
      "metadata": {
        "id": "XNpPwzeHhgq9",
        "colab_type": "code",
        "colab": {}
      },
      "source": [
        ""
      ],
      "execution_count": null,
      "outputs": []
    }
  ]
}